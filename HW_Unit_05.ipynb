{
 "cells": [
  {
   "cell_type": "markdown",
   "id": "4ad748db",
   "metadata": {},
   "source": [
    "## Week 5 Assignment - DATASCI200 Introduction to Data Science Programming, UC Berkeley MIDS"
   ]
  },
  {
   "cell_type": "markdown",
   "id": "7d89afe0",
   "metadata": {},
   "source": [
    "Write code in this Jupyter Notebook to solve the following problems. Please upload this **Notebook** with your solutions to your GitHub repository and gradescope.\n",
    "\n",
    "Assignment due date: 11:59PM PT the night before the Week 6 Live Session."
   ]
  },
  {
   "cell_type": "markdown",
   "id": "1cfa62f1",
   "metadata": {},
   "source": [
    "## Objectives:\n",
    "\n",
    "- Demonstrate how to define functions \n",
    "- Understand how to call functions from within other functions\n",
    "- Understand how to return results from a function\n",
    "- Use the Python namespace to configure variables\n",
    "- Use functions as objects to pass to other functions\n",
    "- Design and implement a recursive function\n",
    "- Demonstrate knowledge of the Try/Except error checking statements"
   ]
  },
  {
   "cell_type": "markdown",
   "id": "65423049",
   "metadata": {},
   "source": [
    "## General Guidelines:\n",
    "\n",
    "- All calculations need to be done in the functions (that includes any formatting)\n",
    "- Name your functions exactly as written in the problem statement\n",
    "- Please have your functions return the answer rather than printing it inside the function\n",
    "- Do not make a separate input() statement. The functions will be passed the input as shown in the examples\n",
    "- The examples given are samples of how we will test/grade your code. Please ensure your functions output the same information\n",
    "- Answer format is graded - please match the examples\n",
    "- Other than for Part 5, user / function inputs do not need to be validated or checked. (For example, if the problem states input an integer we will check it by inputting an integer)\n",
    "- Docstrings and comments in your code are strongly suggested but won't be graded\n",
    "- In each code block, do NOT delete the ### comment at the top of a cell (it's needed for the auto-grading!)\n",
    "  - You will get 80 points from the autograder for this assignment and 20 points will be hidden. That is, passing all of the visible tests will give you 80 points. Make sure you are meeting the requirements of the problem to get the other 20 points!\n",
    "  - Do NOT print or put other statements in the grading cells. The autograder will fail - if this happens please delete those statments and re-submit \n",
    "  - You may upload and run the autograder as many times as needed in your time window to get full points\n",
    "  - The assignment needs to be named HW_Unit_05.ipynb to be graded from the autograder\n",
    "  - The examples given are samples of how we will test/grade your code. Please ensure your code outputs the same information.\n",
    "    - In addition to the given example, the autograder will test other examples\n",
    "    - Each autograder test tells you what input it is using\n",
    "  - Once complete, the autograder will show each tests, if that test is passed or failed, and your total score\n",
    "  - The autograder fails for a couple of reasons:\n",
    "    - Your code crashes with that input (for example: `Test Failed: string index out of range`)\n",
    "    - Your code output does not match the 'correct' output (for example: `Test Failed: '1 2 3 2 1' != '1 4 6 4 1'`)"
   ]
  },
  {
   "cell_type": "markdown",
   "id": "643a443a",
   "metadata": {},
   "source": [
    "### 5-1 Nested (\"Wrapped\") Functions (20 points)\n",
    "For this question, please write three functions as follows:\n",
    "\n",
    "- `sum_digits`: a function which takes an `int` and returns the sum of its (positive value) digits. \n",
    "\n",
    "- `diff_sum_digits`: a function that \"wraps\" `sum_digits` in that it calls `sum_digits` from within it. Use the `diff_sum_digits` function to compute the absolute value of the input number, minus the sum of digits of the input number.\n",
    "\n",
    "- `wraps_diff_sum_digits`: a function that \"wraps\" `diff_sum_digits`. If `diff_sum_digits` returns a result that has more than one digit replace the result with the `diff_sum_digits` of the result. Do this repeatedly until the result has just one digit, then display it. \n",
    "\n",
    "- Note: The nested functions (all three functions above) will always run through once - even if the inputted number is only one digit!\n",
    "\n",
    "To illustrate this with an example:\n",
    "- The input number is 20 as in: `wraps_diff_sum_digits(20)`\n",
    "- `wraps_diff_sum_digits` calls `diff_sum_digits(20)` which calls `sum_digits(20)`\n",
    "- `sum_digits` adds the numbers (2+0 = 2) returns a 2, `diff_sum_digits` subtracts (20-2 = 18) and returns this to `wraps_diff_sum_digits`\n",
    "- `wraps_diff_sum_digits` sees that the number 18 stills has 2 digits and calls `diff_sum_digits(18)` which calls `sum_digits(18)`\n",
    "- `sum_digits` add the numbers (1+8 = 9) returns a 9, `diff_sum_digits` subtracts (18-9 = 9) and returns this to `wraps_diff_sum_digits`\n",
    "- `wraps_diff_sum_digits` sees that the number 9 only has 1 digit - stops and returns the value 9.\n",
    "\n",
    "Below you'll find an example of what we mean when we say \"wraps\"."
   ]
  },
  {
   "cell_type": "code",
   "execution_count": 1,
   "id": "a2429829",
   "metadata": {},
   "outputs": [
    {
     "name": "stdout",
     "output_type": "stream",
     "text": [
      "-5\n",
      "trivial example\n"
     ]
    }
   ],
   "source": [
    "def example_base_func(x):\n",
    "    \"Returns the value of the input * -1\"\n",
    "    return -1 * x\n",
    "\n",
    "def wraps_example_base_func(x):\n",
    "    temp_val = example_base_func(x)\n",
    "    if temp_val < 0:\n",
    "        return \"trivial example\"\n",
    "    \n",
    "print(example_base_func(5))\n",
    "print(wraps_example_base_func(5))"
   ]
  },
  {
   "cell_type": "code",
   "execution_count": 2,
   "id": "69fabacb",
   "metadata": {},
   "outputs": [],
   "source": [
    "# Q5-1 Grading Tag:\n",
    "def sum_digits(num: int) -> int:\n",
    "    \"\"\"\n",
    "    Given an integer, returns the sum of its (positive value) digits.\n",
    "\n",
    "    Args:\n",
    "    - num: An integer\n",
    "\n",
    "    Returns:\n",
    "    - The sum of the positive value digits of the input number\n",
    "    \"\"\"\n",
    "    return sum(int(digit) for digit in str(abs(num)))\n",
    "\n",
    "\n",
    "def diff_sum_digits(num: int) -> int:\n",
    "    \"\"\"\n",
    "    Given an integer, returns the absolute value of the input number, minus the sum of digits of the input number.\n",
    "\n",
    "    Args:\n",
    "    - num: An integer\n",
    "\n",
    "    Returns:\n",
    "    - The result of the subtraction between the absolute value of the input number and the sum of its (positive value) digits\n",
    "    \"\"\"\n",
    "    return abs(num) - sum_digits(num)\n",
    "\n",
    "\n",
    "def wraps_diff_sum_digits(num: int) -> int:\n",
    "    \"\"\"\n",
    "    Given an integer, performs the `diff_sum_digits` operation on it repeatedly until the result is a single digit number. \n",
    "    Returns the single digit number.\n",
    "\n",
    "    Args:\n",
    "    - num: An integer\n",
    "\n",
    "    Returns:\n",
    "    - A single digit integer resulting from the repeated `diff_sum_digits` operations on the input number\n",
    "    \"\"\"\n",
    "    result = diff_sum_digits(num)\n",
    "    while result > 9:\n",
    "        result = diff_sum_digits(result)\n",
    "    return result\n"
   ]
  },
  {
   "cell_type": "code",
   "execution_count": 3,
   "id": "5884394a",
   "metadata": {},
   "outputs": [
    {
     "name": "stdout",
     "output_type": "stream",
     "text": [
      "True\n",
      "True\n",
      "True\n",
      "True\n"
     ]
    }
   ],
   "source": [
    "# Test examples:\n",
    "\n",
    "print(sum_digits(54321) == 15)\n",
    "print(sum_digits(-54321) == 15)\n",
    "print(diff_sum_digits(54321) == 54306)\n",
    "print(wraps_diff_sum_digits(54321) == 9)"
   ]
  },
  {
   "cell_type": "markdown",
   "id": "2bb4acac",
   "metadata": {},
   "source": [
    "### 5-2. Pigs, Continued (20 points)\n",
    "\n",
    "Write a function `is_consonant` that takes a character and returns `True` if it is a consonant.\n",
    "\n",
    "Use your function to create a new function `to_piglatin` that takes a word, moves all starting consonants (all consonants before the first vowel) to the end of the word, then adds *ay* to the end and returns the result. You may expect that the input to the function will be just one word. (we know this isn't **true** pig latin - please do not change this basic algorithm). For a single word input the first letter is capitalized and the rest are lower case as shown in the example below.\n",
    "\n",
    "Examples:\n",
    "```\n",
    "(format is: function call -> returns) - do not return this whole string just return the word after the arrow.\n",
    "\n",
    "to_piglatin('stay') ->  Aystay\n",
    "to_piglatin('Jared') -> Aredjay \n",
    "to_piglatin('and') -> Anday\n",
    "to_piglatin('CAR') -> Arcay\n",
    "```"
   ]
  },
  {
   "cell_type": "code",
   "execution_count": 4,
   "id": "eb921cae",
   "metadata": {},
   "outputs": [],
   "source": [
    "# Q5-2 Grading Tag:\n",
    "\n",
    "def is_consonant(char: str) -> bool:\n",
    "    \"\"\"\n",
    "    Given a character, returns True if it is a consonant, and False otherwise.\n",
    "\n",
    "    Args:\n",
    "    - char: A character\n",
    "\n",
    "    Returns:\n",
    "    - True if the input character is a consonant, and False otherwise.\n",
    "    \"\"\"\n",
    "    return char.isalpha() and char.lower() not in 'aeiou'\n",
    "\n",
    "\n",
    "def to_piglatin(word: str) -> str:\n",
    "    \"\"\"\n",
    "    Given a word, returns the piglatin equivalent by moving all starting consonants to the end of the word and adding \"ay\" to the end.\n",
    "\n",
    "    Args:\n",
    "    - word: A string representing a word\n",
    "\n",
    "    Returns:\n",
    "    - The piglatin equivalent of the input word\n",
    "    \"\"\"\n",
    "    prefix = ''\n",
    "    for char in word:\n",
    "        if is_consonant(char):\n",
    "            prefix += char\n",
    "        else:\n",
    "            break\n",
    "    return (word[len(prefix):].capitalize() + prefix.lower() + 'ay')\n",
    "\n",
    "\n"
   ]
  },
  {
   "cell_type": "code",
   "execution_count": 5,
   "id": "a40190b7",
   "metadata": {},
   "outputs": [
    {
     "name": "stdout",
     "output_type": "stream",
     "text": [
      "True\n",
      "True\n",
      "True\n",
      "True\n"
     ]
    }
   ],
   "source": [
    "# Test examples:\n",
    "\n",
    "print(to_piglatin('stay') == 'Aystay')\n",
    "print(to_piglatin('Jared') == 'Aredjay')\n",
    "print(to_piglatin('and') == 'Anday')\n",
    "print(to_piglatin('CAR') == 'Arcay')"
   ]
  },
  {
   "cell_type": "markdown",
   "id": "95a2b93b",
   "metadata": {},
   "source": [
    "## 5-3. Functions as Objects (20 points)\n",
    "\n",
    "### 5-3-1. A Flexible \"Scoring\" Function (5 points)\n",
    "\n",
    "The following code defines a list of names and also contains a header for the function `best`.  The `best` function takes two arguments: a generic scoring function, score, and a list of strings, names.  Fill in the function so that it applies a score function to each string in the names list and returns the name with the highest score. If there are ties in the list, your function should return the first item with the maximum score. The `best` function needs to be designed so that it can take any scoring function and return the name with the highest score.\n",
    "\n",
    "For this question, define a function called `len_score` that returns the length of a word.  Call the `best` function with the `len_score` function as a parameter.\n",
    "\n",
    "Example:\n",
    "```\n",
    "names = [\"Ben\", \"April\", \"Zaber\", \"Alexis\", \"McJagger\", \"J.J.\", \"Madonna\"]\n",
    "\n",
    "best(len_score, names) -> 'McJagger'\n",
    "```"
   ]
  },
  {
   "cell_type": "code",
   "execution_count": 6,
   "id": "b8788ae3",
   "metadata": {},
   "outputs": [],
   "source": [
    "# Q5-3-1 Grading Tag:\n",
    "\n",
    "def best(score, names):\n",
    "    \"\"\"\n",
    "    Given a scoring function and a list of names, returns the name with the highest score.\n",
    "\n",
    "    Args:\n",
    "    - score: A function that takes a string and returns a score\n",
    "    - names: A list of strings representing names\n",
    "\n",
    "    Returns:\n",
    "    - The name with the highest score\n",
    "    \"\"\"\n",
    "    best_name = None\n",
    "    best_score = float('-inf')\n",
    "    for name in names:\n",
    "        score_value = score(name)\n",
    "        if score_value > best_score:\n",
    "            best_score = score_value\n",
    "            best_name = name\n",
    "    return best_name\n",
    "\n",
    "\n",
    "def len_score(name: str) -> int:\n",
    "    \"\"\"\n",
    "    Given a name, returns the length of the name.\n",
    "\n",
    "    Args:\n",
    "    - name: A string representing a name\n",
    "\n",
    "    Returns:\n",
    "    - The length of the name\n",
    "    \"\"\"\n",
    "    return len(name)\n"
   ]
  },
  {
   "cell_type": "code",
   "execution_count": 7,
   "id": "6e24d252",
   "metadata": {},
   "outputs": [
    {
     "data": {
      "text/plain": [
       "True"
      ]
     },
     "execution_count": 7,
     "metadata": {},
     "output_type": "execute_result"
    }
   ],
   "source": [
    "names = [\"Ben\", \"April\", \"Zaber\", \"Alexis\", \"McJagger\", \"J.J.\", \"Madonna\"]\n",
    "best(len_score, names) == 'McJagger'"
   ]
  },
  {
   "attachments": {},
   "cell_type": "markdown",
   "id": "555ef94a",
   "metadata": {},
   "source": [
    "### 5-3-2. Using Our Flexible Function (5 points)\n",
    "\n",
    "**NOTE: Do not change your best function from the answer in 5-3-1 above! The best function should be able to take any scoring function and return the result.** (you also do not need to copy your best function from above - we will run the cell above and then this cell in succession) `\n",
    "\n",
    "Define a function, `number_of_vowels`, that returns the number of vowels in a string.  Pass it to your `best` function to find the name in `names` with the most vowels.\n",
    "\n",
    "See how easy it is to change the score function for different functionalities!\n",
    "\n",
    "Example: \n",
    "```\n",
    "names = [\"Ben\", \"April\", \"Zaber\", \"Alexis\", \"McJagger\", \"J.J.\", \"Madonna\"]\n",
    "\n",
    "best(number_of_vowels, names) -> 'Alexis'\n",
    "\n",
    "```"
   ]
  },
  {
   "cell_type": "code",
   "execution_count": 15,
   "id": "ce3ff73c",
   "metadata": {},
   "outputs": [],
   "source": [
    "# Q5-3-2 Grading Tag:\n",
    "def number_of_vowels(text):\n",
    "    \"\"\"\n",
    "    Returns the number of vowels (a, e, i, o, u) in the given string.\n",
    "\n",
    "    Args:\n",
    "    - string: a string.\n",
    "\n",
    "    Returns:\n",
    "    - The number of vowels in the string.\n",
    "    \"\"\"\n",
    "    count = 0\n",
    "    for ch in text:\n",
    "        if ch in 'aeiouAEIOU':\n",
    "            count += 1\n",
    "    return count\n",
    "\n"
   ]
  },
  {
   "cell_type": "code",
   "execution_count": 16,
   "id": "37b8bfa6",
   "metadata": {},
   "outputs": [
    {
     "data": {
      "text/plain": [
       "True"
      ]
     },
     "execution_count": 16,
     "metadata": {},
     "output_type": "execute_result"
    }
   ],
   "source": [
    "# You can use the sample output in this cell to sanity check your work.\n",
    "\n",
    "names = [\"Ben\", \"April\", \"Zaber\", \"Alexis\", \"McJagger\", \"J.J.\", \"Madonna\"]\n",
    "\n",
    "best(number_of_vowels, names) == 'Alexis'"
   ]
  },
  {
   "cell_type": "markdown",
   "id": "5e54601c",
   "metadata": {},
   "source": [
    "### 5-3-3 Using Our Flexible Function with a Lambda Function (10 points)\n",
    "\n",
    "**NOTE: Do not change your best function from the answer in 5-3-1 above! The best function should be able to take any scoring function and return the result.** (you also do not need to copy your best function from above - we will run the cells above and then this cell in succession) \n",
    "\n",
    "Now pass a `lambda` function into your `best` function to find the name in `names` with the highest number of A's (upper or lower case). This needs to be a lambda function and only be one line! \n",
    "\n",
    "Example (replace `<lambda_function>` with the correct ```lambda```): \n",
    "```\n",
    "names = [\"Ben\", \"April\", \"Zaber\", \"Alexis\", \"McJagger\", \"J.J.\", \"MadonnA\"]\n",
    "\n",
    "print(best(<lambda_function>, names))\n",
    "\n",
    "MadonnA\n",
    "```"
   ]
  },
  {
   "cell_type": "code",
   "execution_count": 10,
   "id": "71394153",
   "metadata": {},
   "outputs": [
    {
     "name": "stdout",
     "output_type": "stream",
     "text": [
      "MadonnA\n"
     ]
    }
   ],
   "source": [
    "# Q5-3-3 Grading Tag: (also do not delete the names variable below)\n",
    "names = [\"Ben\", \"April\", \"Zaber\", \"Alexis\", \"McJagger\", \"J.J.\", \"MadonnA\"] \n",
    "\n",
    "print(best(lambda name: name.lower().count('a'), names))"
   ]
  },
  {
   "cell_type": "markdown",
   "id": "5335ad55",
   "metadata": {},
   "source": [
    "### 5-4 Recursion - Computing Fibonacci Numbers (20 points)\n",
    "\n",
    "You are probably familiar (from two homework ago!) with the famous Fibonacci sequence of numbers, which begins like this:\n",
    "```\n",
    "1, 1, 2, 3, 5, 8, 13, 21...\n",
    "```\n",
    "We'll index from 0, so the 0th and 1st numbers are both 1.  The 2nd Fibonacci number is found by summing the 0th and 1st: 1 + 1 = 2.  The 3rd is found by summing the 1st and 2nd: 1 + 2 = 3.  After this point, each Fibonacci number is found by summing the previous two numbers.\n",
    "\n",
    "You are to write a recursive function to compute the nth Fibonacci number.  This means that your function will call itself and will **NOT** include explicit loops.\n",
    "\n",
    "Hint: Your function should include a line that looks a lot like the mathematical definition of the nth Fibonacci number.\n",
    "\n",
    "Another Hint: It's possible for a recursive function to call itself more than once.\n",
    "\n",
    "Example: \n",
    "```\n",
    "print(Fibonacci(1))\n",
    "\n",
    "1\n",
    "```"
   ]
  },
  {
   "cell_type": "code",
   "execution_count": 11,
   "id": "361efb6f",
   "metadata": {},
   "outputs": [],
   "source": [
    "# Q5-4 Grading Tag:\n",
    "def Fibonacci(n: int) -> int:\n",
    "    \"\"\"\n",
    "    Given a non-negative integer n, returns the nth Fibonacci number.\n",
    "\n",
    "    Args:\n",
    "    - n: A non-negative integer representing the index of the desired Fibonacci number\n",
    "\n",
    "    Returns:\n",
    "    - The nth Fibonacci number\n",
    "    \"\"\"\n",
    "    if n <= 1:\n",
    "        return 1\n",
    "    else:\n",
    "        return Fibonacci(n - 1) + Fibonacci(n - 2)\n"
   ]
  },
  {
   "cell_type": "code",
   "execution_count": 12,
   "id": "acf964e2",
   "metadata": {},
   "outputs": [
    {
     "name": "stdout",
     "output_type": "stream",
     "text": [
      "True\n",
      "True\n",
      "True\n"
     ]
    }
   ],
   "source": [
    "# Test examples:\n",
    "\n",
    "print(Fibonacci(1) == 1)\n",
    "print(Fibonacci(2) == 2)\n",
    "print(Fibonacci(3) == 3)"
   ]
  },
  {
   "cell_type": "markdown",
   "id": "0f5a39df",
   "metadata": {},
   "source": [
    "### 5-5 Raising Custom Exceptions (20 points)\n",
    "\n",
    "Write a function called `weighted_avg` that takes a list of grades and a corresponding list of weights and returns the weighted average of the grades rounded to 1 decimal place.  \n",
    "\n",
    "Your function should **raise an exception** with the message exactly as shown:\n",
    "- a weight is less than 0 or greater than 100 (message: \"A weight is less than 0 or greater than 100\")\n",
    "- the weights do not add to 100 (message: \"Weights do not add to 100\")\n",
    "- the number of weights and grades are not equal (message: \"The number of weight and grades are not equal\")\n",
    "- a grade is below 0 (grades above 100 would be considered extra credit and are acceptable)\n",
    "  (message: \"A grade is below 0\")\n",
    "\n",
    "Do not print the exception just 'raise' it.\n",
    "\n",
    "Run your function on `grades1` with `weights1` and `grades2` with `weights2` and `grades3` with `weights3` and `grades4` with `weights4`, defined below. Catch the errors generated in each case as an exception with the useful message for the user as defined above.  \n",
    "\n",
    "Hint: The first 3 test cases should raise an exception!\n",
    "\n",
    "Example:\n",
    "\n",
    "```\n",
    "weighted_avg(grades4, weights4) \n",
    "\n",
    "85.0\n",
    "```"
   ]
  },
  {
   "cell_type": "code",
   "execution_count": 13,
   "id": "1e12677d",
   "metadata": {},
   "outputs": [],
   "source": [
    "# Q5-5 Grading Tag:\n",
    "def weighted_avg(grades, weights):\n",
    "    \"\"\"\n",
    "    Given two lists of grades and weights, computes the weighted average of the grades and returns it\n",
    "    rounded to 1 decimal place. Raises exceptions if any of the weights are less than 0 or greater than\n",
    "    100, if the weights do not add to 100, if the number of weights and grades are not equal, or if any\n",
    "    grade is below 0.\n",
    "\n",
    "    Args:\n",
    "    - grades: A list of floats representing the grades\n",
    "    - weights: A list of floats representing the weights of each grade\n",
    "\n",
    "    Returns:\n",
    "    - The weighted average of the grades, rounded to 1 decimal place\n",
    "\n",
    "    Raises:\n",
    "    - ValueError: If a weight is less than 0 or greater than 100, the weights do not add to 100,\n",
    "      the number of weights and grades are not equal, or a grade is below 0\n",
    "    \"\"\"\n",
    "    if len(grades) != len(weights):\n",
    "        raise ValueError(\"The number of weight and grades are not equal\")\n",
    "\n",
    "    if not all(0 <= weight <= 100 for weight in weights):\n",
    "        raise ValueError(\"A weight is less than 0 or greater than 100\")\n",
    "\n",
    "    total_weight = sum(weights)\n",
    "    if total_weight != 100:\n",
    "        raise ValueError(\"Weights do not add to 100\")\n",
    "\n",
    "    if any(grade < 0 for grade in grades):\n",
    "        raise ValueError(\"A grade is below 0\")\n",
    "\n",
    "    weighted_sum = sum(grade * weight for grade, weight in zip(grades, weights))\n",
    "    return round(weighted_sum / total_weight, 1)\n"
   ]
  },
  {
   "cell_type": "code",
   "execution_count": 14,
   "id": "7ce66316",
   "metadata": {},
   "outputs": [],
   "source": [
    "# Example grade/weights to try:\n",
    "\n",
    "grades1 = [88,99,100,70]\n",
    "weights1 = [30, 30, 30, 5]\n",
    "\n",
    "\n",
    "grades2 = [78, 75, 80, 99]\n",
    "weights2 = [110, 10, -20, 0]\n",
    "\n",
    "grades3 = [84, 80, 67, 97]\n",
    "weights3 = [50, 25, 25]\n",
    "\n",
    "grades4 = [100, 80, 90, 75]\n",
    "weights4 = [20, 25, 25, 30]"
   ]
  },
  {
   "cell_type": "markdown",
   "id": "2a280673",
   "metadata": {},
   "source": [
    "## If you have feedback for this homework, please submit it using the link below:\n",
    "\n",
    "http://goo.gl/forms/74yCiQTf6k"
   ]
  }
 ],
 "metadata": {
  "kernelspec": {
   "display_name": "base",
   "language": "python",
   "name": "python3"
  },
  "language_info": {
   "codemirror_mode": {
    "name": "ipython",
    "version": 3
   },
   "file_extension": ".py",
   "mimetype": "text/x-python",
   "name": "python",
   "nbconvert_exporter": "python",
   "pygments_lexer": "ipython3",
   "version": "3.9.12"
  },
  "vscode": {
   "interpreter": {
    "hash": "574cd9b28d2c06889b94fb5b32eb868ee81d3f550ef8e5d675f71e5ba5047380"
   }
  }
 },
 "nbformat": 4,
 "nbformat_minor": 5
}
